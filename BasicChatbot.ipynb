{
 "cells": [
  {
   "cell_type": "code",
   "execution_count": 1,
   "id": "24996b64",
   "metadata": {},
   "outputs": [
    {
     "name": "stdout",
     "output_type": "stream",
     "text": [
      "Welcome to the ChatBot!\n",
      "Type 'quit' to end the conversation.\n",
      "You: Asmeet\n",
      "ChatBot: None\n",
      "You: my name is Asmeet\n",
      "ChatBot: Hello asmeet, how can I help you today?\n",
      "You: how are you\n",
      "ChatBot: I'm great, thanks for asking!\n",
      "You: quit\n",
      "ChatBot: Bye! Take care.\n"
     ]
    }
   ],
   "source": [
    "import nltk\n",
    "from nltk.chat.util import Chat, reflections\n",
    "\n",
    "# Define pairs of patterns and responses for the chatbot\n",
    "pairs = [\n",
    "    [\n",
    "        r\"my name is (.*)\",\n",
    "        [\"Hello %1, how can I help you today?\",]\n",
    "    ],\n",
    "    [\n",
    "        r\"what is your name?\",\n",
    "        [\"My name is ChatBot and I'm here to assist you.\",]\n",
    "    ],\n",
    "    [\n",
    "        r\"how are you ?\",\n",
    "        [\"I'm doing well, thank you!\", \"I'm great, thanks for asking!\"]\n",
    "    ],\n",
    "    [\n",
    "        r\"(.*) stock price\",\n",
    "        [\"I'm sorry, I'm just a chatbot and don't have access to real-time data.\"]\n",
    "    ],\n",
    "    [\n",
    "        r\"(.*) (weather|temperature) in (.*)?\",\n",
    "        [\"Sorry, I cannot provide weather information.\"]\n",
    "    ],\n",
    "    [\n",
    "        r\"quit\",\n",
    "        [\"Goodbye! Have a great day ahead.\", \"Bye! Take care.\"]\n",
    "    ],\n",
    "]\n",
    "\n",
    "# Create a chatbot using the Chat class\n",
    "chatbot = Chat(pairs, reflections)\n",
    "\n",
    "# Define a function to start the conversation\n",
    "def chat_bot():\n",
    "    print(\"Welcome to the ChatBot!\")\n",
    "    print(\"Type 'quit' to end the conversation.\")\n",
    "    while True:\n",
    "        user_input = input(\"You: \")\n",
    "        response = chatbot.respond(user_input)\n",
    "        print(\"ChatBot:\", response)\n",
    "        if user_input == \"quit\":\n",
    "            break\n",
    "\n",
    "# Start the conversation\n",
    "chat_bot()"
   ]
  },
  {
   "cell_type": "code",
   "execution_count": null,
   "id": "7a916159",
   "metadata": {},
   "outputs": [],
   "source": []
  }
 ],
 "metadata": {
  "kernelspec": {
   "display_name": "Python 3 (ipykernel)",
   "language": "python",
   "name": "python3"
  },
  "language_info": {
   "codemirror_mode": {
    "name": "ipython",
    "version": 3
   },
   "file_extension": ".py",
   "mimetype": "text/x-python",
   "name": "python",
   "nbconvert_exporter": "python",
   "pygments_lexer": "ipython3",
   "version": "3.11.5"
  }
 },
 "nbformat": 4,
 "nbformat_minor": 5
}
